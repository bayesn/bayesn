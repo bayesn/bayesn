{
 "cells": [
  {
   "cell_type": "markdown",
   "id": "bcf547e1-364a-4352-a2fe-df2ee5ea0e80",
   "metadata": {},
   "source": [
    "# Example light curve fits, for small samples"
   ]
  },
  {
   "cell_type": "markdown",
   "id": "afda0af7-6be6-451c-8198-1af302ce10f1",
   "metadata": {},
   "source": [
    "BayeSN has been designed for doing hierarchical inference and light curve fits with large SN samples, leveraging GPU acceleration and vectorisation for efficient computation. However, in many cases you may want to run a small number of fits within an accessible Python script rather than deploying large jobs to a cluster.\n",
    "\n",
    "As an alternative to BayeSN's yaml configuration, it is possible to do much simpler single light curve fits within a Python script/Jupyter notebook. This notebook presents an example of this functionality."
   ]
  },
  {
   "cell_type": "markdown",
   "id": "4a8fc260-7ee6-41d3-a3b9-215419edfa0f",
   "metadata": {},
   "source": [
    "First, let's do some package imports and set up a BayeSN model instance."
   ]
  },
  {
   "cell_type": "code",
   "execution_count": 1,
   "id": "fe9917ef-ea2d-41e0-b38e-5896b1737c82",
   "metadata": {},
   "outputs": [],
   "source": [
    "import numpy as np\n",
    "import matplotlib.pyplot as plt\n",
    "import sncosmo\n",
    "from bayesn import SEDmodel"
   ]
  },
  {
   "cell_type": "code",
   "execution_count": 2,
   "id": "a6be3bd8-3158-41c6-8dc2-04cf05d9e6e7",
   "metadata": {},
   "outputs": [
    {
     "name": "stdout",
     "output_type": "stream",
     "text": [
      "Current devices: [CpuDevice(id=0), CpuDevice(id=1), CpuDevice(id=2), CpuDevice(id=3)]\n",
      "Currently working in /Users/matt/Documents/bayesn\n",
      "Loading built-in model T21_model\n"
     ]
    }
   ],
   "source": [
    "model = SEDmodel(load_model='T21_model')"
   ]
  },
  {
   "cell_type": "markdown",
   "id": "37072c2a-b394-4728-ab0c-7548e86b8fd6",
   "metadata": {},
   "source": [
    "## Fitting light curves"
   ]
  },
  {
   "cell_type": "markdown",
   "id": "432cc800-7dc3-4b0d-ac04-12690b768a39",
   "metadata": {},
   "source": [
    "### Fitting from an SNANA-format text file"
   ]
  },
  {
   "cell_type": "markdown",
   "id": "a636bd50-68e7-4aa2-a0a3-f4233732e583",
   "metadata": {},
   "source": [
    "Let's say you have an SNANA format file containing light curve data and metadata. In this case, you can just use the method `fit_from_file` of the model instance to fit the light curve, as shown below. Here, `model.example_lc` will automatically load an example light curve built into BayeSN, SN 2016W from Foundation. You can use this for testing or swap this out for your own data - just provide the path to the SNANA text file.\n",
    "\n",
    "This function will return MCMC samples for your object, which you can analyse yourself or use to make plots (as shown later in this notebook). It will also return a tuple, here called `sn_props`, containing the redshift and Milky Way E(B-V) for this object which you can use when plotting.\n",
    "\n",
    "`filt_map` is a dictionary which allows you to specify which filters to use e.g. in the SNANA file for this example object, the filter names are just _griz_, this map will ensure that Pan-STARRS 1 filters are used when fitting.\n",
    "\n",
    "`fit_from_file` is looking for particular keys in an SNANA file. Most of those are fairly standard but depending on your file you may want to use different keys for peak MJD (this is only a rough guess, BayeSN will fit for time of maximum). By default, the code will look for the key `SEARCH_PEAKMJD`, but you can change this with the optional kwarg `peak_mjd_key`."
   ]
  },
  {
   "cell_type": "code",
   "execution_count": 3,
   "id": "73edecf1-f460-444a-a9e4-9c625d578b80",
   "metadata": {},
   "outputs": [
    {
     "name": "stderr",
     "output_type": "stream",
     "text": [
      "/Users/matt/mambaforge/envs/piptest/lib/python3.11/site-packages/jax/_src/linear_util.py:188: UserWarning: Missing a plate statement for batch dimension -2 at site 'obs'. You can use `numpyro.util.format_shapes` utility to check shapes at all sites of your model.\n",
      "  ans = self.f(*args, **dict(self.params, **kwargs))\n"
     ]
    },
    {
     "data": {
      "application/vnd.jupyter.widget-view+json": {
       "model_id": "149d3cf851dd4b1f9e5c0482d70a9c81",
       "version_major": 2,
       "version_minor": 0
      },
      "text/plain": [
       "  0%|          | 0/500 [00:00<?, ?it/s]"
      ]
     },
     "metadata": {},
     "output_type": "display_data"
    },
    {
     "data": {
      "application/vnd.jupyter.widget-view+json": {
       "model_id": "036ae5e29eea42628091815d80461f92",
       "version_major": 2,
       "version_minor": 0
      },
      "text/plain": [
       "  0%|          | 0/500 [00:00<?, ?it/s]"
      ]
     },
     "metadata": {},
     "output_type": "display_data"
    },
    {
     "data": {
      "application/vnd.jupyter.widget-view+json": {
       "model_id": "011c4f34898f4f32aaf4e0262d4f6d42",
       "version_major": 2,
       "version_minor": 0
      },
      "text/plain": [
       "  0%|          | 0/500 [00:00<?, ?it/s]"
      ]
     },
     "metadata": {},
     "output_type": "display_data"
    },
    {
     "data": {
      "application/vnd.jupyter.widget-view+json": {
       "model_id": "9aeeae2d31c349ecaf776c24340cee17",
       "version_major": 2,
       "version_minor": 0
      },
      "text/plain": [
       "  0%|          | 0/500 [00:00<?, ?it/s]"
      ]
     },
     "metadata": {},
     "output_type": "display_data"
    },
    {
     "name": "stdout",
     "output_type": "stream",
     "text": [
      "\n",
      "                     mean       std    median      5.0%     95.0%     n_eff     r_hat\n",
      "          AV[0]      0.23      0.06      0.23      0.12      0.31    383.15      1.00\n",
      "          Ds[0]     34.48      0.05     34.48     34.41     34.55    313.08      1.00\n",
      " eps_tform[0,0]      0.03      0.59      0.02     -0.92      1.00    425.80      1.01\n",
      " eps_tform[0,1]     -0.23      0.26     -0.23     -0.65      0.20    640.55      1.00\n",
      " eps_tform[0,2]     -0.58      0.33     -0.58     -1.08     -0.02    633.91      1.00\n",
      " eps_tform[0,3]      0.69      0.41      0.70      0.06      1.33    585.55      1.01\n",
      " eps_tform[0,4]      0.24      0.69      0.27     -0.79      1.46    484.96      1.00\n",
      " eps_tform[0,5]      0.24      0.47      0.24     -0.50      1.05    647.13      1.00\n",
      " eps_tform[0,6]     -1.10      0.57     -1.11     -2.01     -0.21    308.93      1.01\n",
      " eps_tform[0,7]      0.45      0.44      0.46     -0.27      1.14    492.43      1.00\n",
      " eps_tform[0,8]      0.35      0.61      0.34     -0.62      1.34    449.96      1.01\n",
      " eps_tform[0,9]     -0.31      0.53     -0.32     -1.21      0.55    539.04      1.00\n",
      "eps_tform[0,10]      0.34      0.50      0.34     -0.46      1.11    565.53      1.00\n",
      "eps_tform[0,11]      1.82      0.45      1.82      1.21      2.68    889.04      1.00\n",
      "eps_tform[0,12]      1.72      0.53      1.71      0.90      2.61    572.00      1.00\n",
      "eps_tform[0,13]     -0.59      0.53     -0.62     -1.49      0.28    603.88      1.00\n",
      "eps_tform[0,14]     -0.60      0.49     -0.60     -1.55      0.06    646.68      1.00\n",
      "eps_tform[0,15]      0.06      0.62      0.06     -0.85      1.20    730.65      1.00\n",
      "eps_tform[0,16]      0.15      0.46      0.13     -0.63      0.87    680.95      1.00\n",
      "eps_tform[0,17]      0.20      0.73      0.21     -0.92      1.41    744.62      1.00\n",
      "eps_tform[0,18]     -0.99      0.69     -0.98     -2.00      0.29    698.89      1.00\n",
      "eps_tform[0,19]     -1.08      0.68     -1.08     -2.14      0.06    771.86      1.00\n",
      "eps_tform[0,20]      0.39      0.98      0.41     -1.21      1.93   1212.87      1.00\n",
      "eps_tform[0,21]     -1.42      0.83     -1.43     -2.75     -0.00   1143.65      1.00\n",
      "eps_tform[0,22]      0.27      0.96      0.31     -1.24      1.98   1119.74      1.00\n",
      "eps_tform[0,23]      0.26      0.90      0.26     -1.25      1.71   1428.23      1.00\n",
      "       theta[0]      1.27      0.13      1.28      1.06      1.49    567.88      1.00\n",
      "        tmax[0]     -2.28      0.19     -2.27     -2.62     -2.00    368.45      1.01\n",
      "\n",
      "Number of divergences: 0\n"
     ]
    }
   ],
   "source": [
    "filt_map = {'g': 'g_PS1', 'r': 'r_PS1', 'i': 'i_PS1', 'z': 'z_PS1'}\n",
    "samples, sn_props = model.fit_from_file(model.example_lc, filt_map=filt_map)"
   ]
  },
  {
   "cell_type": "markdown",
   "id": "651b4246-6639-45dc-82c9-ef3eb37250ba",
   "metadata": {},
   "source": [
    "### Fitting more general data formats"
   ]
  },
  {
   "cell_type": "markdown",
   "id": "7237e274-1922-4501-9982-f66df9d61751",
   "metadata": {},
   "source": [
    "However, you might not have a nicely formatted SNANA format light curve file. You can also use the more general method `fit` and provide phases/fluxes/uncertainties etc. yourself, all stored in arrays.\n",
    "\n",
    "For this example, we will use the same example light curve as above, but this time we'll pretend we can't use `fit_from_file`, read in the data manually and then use `model.fit()`. Although this is still an SNANA format file, as long as you have arrays containing phases, fluxes, flux errors and filters, as well as redshift and Milky Way E(B-V) you can use this for any data format."
   ]
  },
  {
   "cell_type": "code",
   "execution_count": 4,
   "id": "6949d84e-f99f-4ead-8e34-ce5c8d45f868",
   "metadata": {},
   "outputs": [],
   "source": [
    "meta, lcdata = sncosmo.read_snana_ascii(model.example_lc, default_tablename='OBS')\n",
    "lcdata = lcdata['OBS'].to_pandas()\n",
    "\n",
    "t = lcdata.MJD.values\n",
    "flux = lcdata.FLUXCAL.values\n",
    "flux_err = lcdata.FLUXCALERR.values\n",
    "filters = lcdata.FLT.values\n",
    "\n",
    "z = meta['REDSHIFT_HELIO']\n",
    "peak_mjd = meta['SEARCH_PEAKMJD']\n",
    "ebv_mw = meta['MWEBV']"
   ]
  },
  {
   "cell_type": "markdown",
   "id": "77ca81cd-de60-4799-b1c9-25ee41f94c78",
   "metadata": {},
   "source": [
    "Once you've read in your data, just pass this to `model.fit`. This returns MCMC samples and a tuple of SN properties just as `model.fit_from_file()` does. For this function, if you provide a value for `peak_mjd` the code will automatically convert this into rest-frame phase. The model does fit for time of maximum so this doesn't have to be exact, it just needs to be a rough guess. When fitting, the prior on time-of-maximum is a uniform distribution 10 rest-frame days either side of this initial value. Alternatively, if the data you have is already in rest-frame phase, just don't provide a value for `peak_mjd` and the phases will be left as they are.\n",
    "\n",
    "If you have mag data, you can just use mag and mag_err instead of flux and flux_err and set the kwarg `mag=True`, this way your mag data will automatically be converted into flux space before fitting."
   ]
  },
  {
   "cell_type": "code",
   "execution_count": 5,
   "id": "c8ddf470-df63-4d5d-a23c-3cb70c251166",
   "metadata": {},
   "outputs": [
    {
     "name": "stderr",
     "output_type": "stream",
     "text": [
      "/Users/matt/mambaforge/envs/piptest/lib/python3.11/site-packages/jax/_src/linear_util.py:188: UserWarning: Missing a plate statement for batch dimension -2 at site 'obs'. You can use `numpyro.util.format_shapes` utility to check shapes at all sites of your model.\n",
      "  ans = self.f(*args, **dict(self.params, **kwargs))\n"
     ]
    },
    {
     "data": {
      "application/vnd.jupyter.widget-view+json": {
       "model_id": "04b2210f1ec1451d9d25a407d018b438",
       "version_major": 2,
       "version_minor": 0
      },
      "text/plain": [
       "  0%|          | 0/500 [00:00<?, ?it/s]"
      ]
     },
     "metadata": {},
     "output_type": "display_data"
    },
    {
     "data": {
      "application/vnd.jupyter.widget-view+json": {
       "model_id": "434bab3a15674301992b816a503638d2",
       "version_major": 2,
       "version_minor": 0
      },
      "text/plain": [
       "  0%|          | 0/500 [00:00<?, ?it/s]"
      ]
     },
     "metadata": {},
     "output_type": "display_data"
    },
    {
     "data": {
      "application/vnd.jupyter.widget-view+json": {
       "model_id": "7f21e8b0a5e946feaa6fbbe2813f946b",
       "version_major": 2,
       "version_minor": 0
      },
      "text/plain": [
       "  0%|          | 0/500 [00:00<?, ?it/s]"
      ]
     },
     "metadata": {},
     "output_type": "display_data"
    },
    {
     "data": {
      "application/vnd.jupyter.widget-view+json": {
       "model_id": "852cc5b810a14c8dbaec745d17a92e0e",
       "version_major": 2,
       "version_minor": 0
      },
      "text/plain": [
       "  0%|          | 0/500 [00:00<?, ?it/s]"
      ]
     },
     "metadata": {},
     "output_type": "display_data"
    },
    {
     "name": "stdout",
     "output_type": "stream",
     "text": [
      "\n",
      "                     mean       std    median      5.0%     95.0%     n_eff     r_hat\n",
      "          AV[0]      0.23      0.06      0.23      0.12      0.31    383.15      1.00\n",
      "          Ds[0]     34.48      0.05     34.48     34.41     34.55    313.08      1.00\n",
      " eps_tform[0,0]      0.03      0.59      0.02     -0.92      1.00    425.80      1.01\n",
      " eps_tform[0,1]     -0.23      0.26     -0.23     -0.65      0.20    640.55      1.00\n",
      " eps_tform[0,2]     -0.58      0.33     -0.58     -1.08     -0.02    633.91      1.00\n",
      " eps_tform[0,3]      0.69      0.41      0.70      0.06      1.33    585.55      1.01\n",
      " eps_tform[0,4]      0.24      0.69      0.27     -0.79      1.46    484.96      1.00\n",
      " eps_tform[0,5]      0.24      0.47      0.24     -0.50      1.05    647.13      1.00\n",
      " eps_tform[0,6]     -1.10      0.57     -1.11     -2.01     -0.21    308.93      1.01\n",
      " eps_tform[0,7]      0.45      0.44      0.46     -0.27      1.14    492.43      1.00\n",
      " eps_tform[0,8]      0.35      0.61      0.34     -0.62      1.34    449.96      1.01\n",
      " eps_tform[0,9]     -0.31      0.53     -0.32     -1.21      0.55    539.04      1.00\n",
      "eps_tform[0,10]      0.34      0.50      0.34     -0.46      1.11    565.53      1.00\n",
      "eps_tform[0,11]      1.82      0.45      1.82      1.21      2.68    889.04      1.00\n",
      "eps_tform[0,12]      1.72      0.53      1.71      0.90      2.61    572.00      1.00\n",
      "eps_tform[0,13]     -0.59      0.53     -0.62     -1.49      0.28    603.88      1.00\n",
      "eps_tform[0,14]     -0.60      0.49     -0.60     -1.55      0.06    646.68      1.00\n",
      "eps_tform[0,15]      0.06      0.62      0.06     -0.85      1.20    730.65      1.00\n",
      "eps_tform[0,16]      0.15      0.46      0.13     -0.63      0.87    680.95      1.00\n",
      "eps_tform[0,17]      0.20      0.73      0.21     -0.92      1.41    744.62      1.00\n",
      "eps_tform[0,18]     -0.99      0.69     -0.98     -2.00      0.29    698.89      1.00\n",
      "eps_tform[0,19]     -1.08      0.68     -1.08     -2.14      0.06    771.86      1.00\n",
      "eps_tform[0,20]      0.39      0.98      0.41     -1.21      1.93   1212.87      1.00\n",
      "eps_tform[0,21]     -1.42      0.83     -1.43     -2.75     -0.00   1143.65      1.00\n",
      "eps_tform[0,22]      0.27      0.96      0.31     -1.24      1.98   1119.74      1.00\n",
      "eps_tform[0,23]      0.26      0.90      0.26     -1.25      1.71   1428.23      1.00\n",
      "       theta[0]      1.27      0.13      1.28      1.06      1.49    567.88      1.00\n",
      "        tmax[0]     -2.28      0.19     -2.27     -2.62     -2.00    368.45      1.01\n",
      "\n",
      "Number of divergences: 0\n"
     ]
    }
   ],
   "source": [
    "filt_map = {'g': 'g_PS1', 'r': 'r_PS1', 'i': 'i_PS1', 'z': 'z_PS1'}\n",
    "samples, sn_props = model.fit(t, flux, flux_err, filters, z, peak_mjd=peak_mjd, ebv_mw=meta['MWEBV'], filt_map=filt_map, mag=False)"
   ]
  },
  {
   "cell_type": "markdown",
   "id": "bc56ca8e-6eb3-43f8-b991-1c2fbe5052f0",
   "metadata": {},
   "source": [
    "### Fitting with fixed parameters"
   ]
  },
  {
   "cell_type": "markdown",
   "id": "b6e99900-ac8e-4ce9-84cb-a3bc76724e4a",
   "metadata": {},
   "source": [
    "Both `model.fit()` and `model.fit_from_file()` allow you to fit light curves with specific parameters fixed, if desired. \n",
    "\n",
    "If you use the kwarg `fix_tmax=True`, tmax will not be inferred and will instead be fixed to the peak MJD you specified/present in the input file, or if you already have rest-frame phases will just be fixed to zero.\n",
    "\n",
    "If you want to fix either $\\theta$ or $A_V$, you can do this by setting the optional kwargs `fit_theta` and `fix_AV` to the value you want these parameters fixed to e.g. if you use `fit_theta=1`, $\\theta$ will be fixed to 1 for your fits. "
   ]
  },
  {
   "cell_type": "markdown",
   "id": "b0a71d31-ee40-4891-821b-98b5d6096df9",
   "metadata": {},
   "source": [
    "Here's an example of this in practice. Let's use `fit_from_file` again but this time fix $\\theta=1.3$. If you fix a parameter, just ignore the values for that parameter in the summary table that gets printed - your fixed value has been used, and will be present in the MCMC samples."
   ]
  },
  {
   "cell_type": "code",
   "execution_count": 6,
   "id": "ceb7387d-f707-412f-ab9c-97ba0fb3e31d",
   "metadata": {},
   "outputs": [
    {
     "name": "stderr",
     "output_type": "stream",
     "text": [
      "/Users/matt/mambaforge/envs/piptest/lib/python3.11/site-packages/jax/_src/linear_util.py:188: UserWarning: Missing a plate statement for batch dimension -2 at site 'obs'. You can use `numpyro.util.format_shapes` utility to check shapes at all sites of your model.\n",
      "  ans = self.f(*args, **dict(self.params, **kwargs))\n"
     ]
    },
    {
     "data": {
      "application/vnd.jupyter.widget-view+json": {
       "model_id": "781d99bb74a344f195e985fad4652fc3",
       "version_major": 2,
       "version_minor": 0
      },
      "text/plain": [
       "  0%|          | 0/500 [00:00<?, ?it/s]"
      ]
     },
     "metadata": {},
     "output_type": "display_data"
    },
    {
     "data": {
      "application/vnd.jupyter.widget-view+json": {
       "model_id": "445c8ed7d76e4575a30190ab2146ac7a",
       "version_major": 2,
       "version_minor": 0
      },
      "text/plain": [
       "  0%|          | 0/500 [00:00<?, ?it/s]"
      ]
     },
     "metadata": {},
     "output_type": "display_data"
    },
    {
     "data": {
      "application/vnd.jupyter.widget-view+json": {
       "model_id": "cf6ba9a6e9e44bf4ab96d7e0f5027ba0",
       "version_major": 2,
       "version_minor": 0
      },
      "text/plain": [
       "  0%|          | 0/500 [00:00<?, ?it/s]"
      ]
     },
     "metadata": {},
     "output_type": "display_data"
    },
    {
     "data": {
      "application/vnd.jupyter.widget-view+json": {
       "model_id": "027251281ce84a9db6952024d7a2017c",
       "version_major": 2,
       "version_minor": 0
      },
      "text/plain": [
       "  0%|          | 0/500 [00:00<?, ?it/s]"
      ]
     },
     "metadata": {},
     "output_type": "display_data"
    },
    {
     "name": "stdout",
     "output_type": "stream",
     "text": [
      "\n",
      "                     mean       std    median      5.0%     95.0%     n_eff     r_hat\n",
      "          AV[0]      0.22      0.05      0.22      0.14      0.31    299.20      1.01\n",
      "          Ds[0]     34.47      0.04     34.48     34.41     34.55    283.10      1.01\n",
      " eps_tform[0,0]      0.02      0.57     -0.00     -0.86      0.99    436.40      1.00\n",
      " eps_tform[0,1]     -0.24      0.25     -0.25     -0.63      0.19    558.26      1.00\n",
      " eps_tform[0,2]     -0.59      0.32     -0.59     -1.13     -0.11    502.00      1.01\n",
      " eps_tform[0,3]      0.70      0.38      0.71      0.08      1.28    529.46      1.00\n",
      " eps_tform[0,4]      0.29      0.63      0.29     -0.68      1.35    378.99      1.01\n",
      " eps_tform[0,5]      0.24      0.48      0.24     -0.49      1.08    466.59      1.01\n",
      " eps_tform[0,6]     -1.11      0.53     -1.10     -1.95     -0.20    326.61      1.00\n",
      " eps_tform[0,7]      0.39      0.39      0.39     -0.36      0.94    403.66      1.00\n",
      " eps_tform[0,8]      0.33      0.62      0.31     -0.70      1.33    388.27      1.00\n",
      " eps_tform[0,9]     -0.32      0.52     -0.32     -1.21      0.50    449.64      1.00\n",
      "eps_tform[0,10]      0.34      0.46      0.36     -0.37      1.17    554.88      1.00\n",
      "eps_tform[0,11]      1.86      0.44      1.88      1.14      2.62    810.84      1.01\n",
      "eps_tform[0,12]      1.66      0.52      1.65      0.84      2.54    434.84      1.01\n",
      "eps_tform[0,13]     -0.59      0.52     -0.60     -1.45      0.26    549.30      1.00\n",
      "eps_tform[0,14]     -0.60      0.47     -0.62     -1.40      0.08    435.78      1.00\n",
      "eps_tform[0,15]      0.04      0.65      0.05     -1.04      1.04    469.98      1.00\n",
      "eps_tform[0,16]      0.14      0.41      0.14     -0.49      0.86    799.34      1.00\n",
      "eps_tform[0,17]      0.09      0.58      0.07     -0.83      1.06    550.45      1.00\n",
      "eps_tform[0,18]     -1.04      0.62     -1.02     -2.01     -0.05    549.40      1.00\n",
      "eps_tform[0,19]     -1.17      0.60     -1.17     -2.12     -0.17    709.87      1.00\n",
      "eps_tform[0,20]      0.33      0.93      0.32     -1.07      1.90   1125.74      1.00\n",
      "eps_tform[0,21]     -1.45      0.78     -1.46     -2.61     -0.05   1057.72      1.00\n",
      "eps_tform[0,22]      0.24      0.95      0.25     -1.22      1.97    956.42      1.00\n",
      "eps_tform[0,23]      0.20      0.96      0.25     -1.56      1.62   1027.25      1.00\n",
      "       theta[0]      0.04      0.99      0.06     -1.63      1.56   1047.45      1.00\n",
      "        tmax[0]     -2.29      0.19     -2.28     -2.58     -1.94    418.88      1.00\n",
      "\n",
      "Number of divergences: 0\n"
     ]
    }
   ],
   "source": [
    "filt_map = {'g': 'g_PS1', 'r': 'r_PS1', 'i': 'i_PS1', 'z': 'z_PS1'}\n",
    "samples, sn_props = model.fit_from_file(model.example_lc, filt_map=filt_map, fix_theta=1.3)"
   ]
  },
  {
   "cell_type": "markdown",
   "id": "9096a7db-f327-4ed5-b6d9-23cde2e4c36f",
   "metadata": {},
   "source": [
    "### Testing different dust parameters"
   ]
  },
  {
   "cell_type": "markdown",
   "id": "4eb9a369-1463-4a64-9bf2-f4df42759996",
   "metadata": {},
   "source": [
    "The built-in BayeSN models generally assume a single fixed host galaxy $R_V$ for all SNe, although plenty of BayeSN papers have explored population distributions of $R_V$ as well. You can easily experiment with different values/distributions of $R_V$ during the fitting. For example, you change the single fixed $R_V$ value by setting the optional kwarg `RV` e.g. `RV=2.8`. Alternatively, you can set a population distribution of $R_V$ values by specifying the mean $\\mu_R$ and standard deviation $\\sigma_R$ of the distribution using the kwargs `mu_R` and `sigma_R`. Note that you must specify both of these, setting `mu_R` but not `sigma_R` will raise an error. This works the same for both `fit` and `fit_from_file`."
   ]
  },
  {
   "cell_type": "markdown",
   "id": "00b7e27a-9a86-4134-830a-042140691b41",
   "metadata": {},
   "source": [
    "Shown here is an example of fitting using the T21 BayeSN model that we set up earlier, but switching the $R_V$ distribution to a truncated normal distributon (with lower truncution at 1.2, corresponding to Rayleigh scattering) for with $\\mu_R=2.5$ and $\\sigma_R=0.5$."
   ]
  },
  {
   "cell_type": "code",
   "execution_count": 7,
   "id": "877177f0-38b1-46b5-88d3-73d4f8db4fd5",
   "metadata": {},
   "outputs": [
    {
     "name": "stderr",
     "output_type": "stream",
     "text": [
      "/Users/matt/mambaforge/envs/piptest/lib/python3.11/site-packages/jax/_src/linear_util.py:188: UserWarning: Missing a plate statement for batch dimension -2 at site 'obs'. You can use `numpyro.util.format_shapes` utility to check shapes at all sites of your model.\n",
      "  ans = self.f(*args, **dict(self.params, **kwargs))\n"
     ]
    },
    {
     "data": {
      "application/vnd.jupyter.widget-view+json": {
       "model_id": "00ae9c5f1d8b4dd2ab99991d57cf7122",
       "version_major": 2,
       "version_minor": 0
      },
      "text/plain": [
       "  0%|          | 0/500 [00:00<?, ?it/s]"
      ]
     },
     "metadata": {},
     "output_type": "display_data"
    },
    {
     "data": {
      "application/vnd.jupyter.widget-view+json": {
       "model_id": "71a2a5490d6f4c9fb3b1d2d8ec36fd98",
       "version_major": 2,
       "version_minor": 0
      },
      "text/plain": [
       "  0%|          | 0/500 [00:00<?, ?it/s]"
      ]
     },
     "metadata": {},
     "output_type": "display_data"
    },
    {
     "data": {
      "application/vnd.jupyter.widget-view+json": {
       "model_id": "e752edba034045998642865bdf108cdb",
       "version_major": 2,
       "version_minor": 0
      },
      "text/plain": [
       "  0%|          | 0/500 [00:00<?, ?it/s]"
      ]
     },
     "metadata": {},
     "output_type": "display_data"
    },
    {
     "data": {
      "application/vnd.jupyter.widget-view+json": {
       "model_id": "44d82b25664b4dbaa976924655217637",
       "version_major": 2,
       "version_minor": 0
      },
      "text/plain": [
       "  0%|          | 0/500 [00:00<?, ?it/s]"
      ]
     },
     "metadata": {},
     "output_type": "display_data"
    },
    {
     "name": "stdout",
     "output_type": "stream",
     "text": [
      "\n",
      "                     mean       std    median      5.0%     95.0%     n_eff     r_hat\n",
      "          AV[0]      0.22      0.06      0.21      0.12      0.31    413.05      1.00\n",
      "          Ds[0]     34.49      0.05     34.49     34.40     34.57    351.65      1.00\n",
      "    RV_tform[0]      0.45      0.29      0.42      0.00      0.88    719.10      1.00\n",
      " eps_tform[0,0]     -0.01      0.57     -0.03     -1.00      0.94    441.54      1.01\n",
      " eps_tform[0,1]     -0.24      0.27     -0.25     -0.70      0.17    920.21      1.00\n",
      " eps_tform[0,2]     -0.57      0.31     -0.57     -1.05     -0.04    520.22      1.00\n",
      " eps_tform[0,3]      0.64      0.42      0.63      0.01      1.40    569.67      1.01\n",
      " eps_tform[0,4]      0.22      0.67      0.23     -0.85      1.33    491.58      1.00\n",
      " eps_tform[0,5]      0.28      0.53      0.29     -0.63      1.06    765.44      1.00\n",
      " eps_tform[0,6]     -1.12      0.59     -1.12     -2.10     -0.16    384.51      1.00\n",
      " eps_tform[0,7]      0.36      0.46      0.35     -0.37      1.08    556.41      1.00\n",
      " eps_tform[0,8]      0.35      0.62      0.35     -0.66      1.33    519.50      1.01\n",
      " eps_tform[0,9]     -0.35      0.52     -0.35     -1.28      0.45    539.08      1.00\n",
      "eps_tform[0,10]      0.29      0.52      0.32     -0.58      1.10    598.67      1.00\n",
      "eps_tform[0,11]      1.77      0.47      1.77      1.06      2.56    982.94      1.00\n",
      "eps_tform[0,12]      1.71      0.54      1.72      0.80      2.53    651.99      1.00\n",
      "eps_tform[0,13]     -0.64      0.54     -0.66     -1.45      0.32    621.07      1.00\n",
      "eps_tform[0,14]     -0.65      0.48     -0.63     -1.40      0.15    620.95      1.00\n",
      "eps_tform[0,15]      0.04      0.66      0.05     -0.96      1.13    771.28      1.01\n",
      "eps_tform[0,16]      0.16      0.47      0.16     -0.59      0.92    778.01      1.00\n",
      "eps_tform[0,17]      0.19      0.74      0.22     -1.18      1.28    694.86      1.00\n",
      "eps_tform[0,18]     -0.99      0.70     -0.99     -2.11      0.16    744.49      1.00\n",
      "eps_tform[0,19]     -1.12      0.68     -1.15     -2.23     -0.01    772.07      1.00\n",
      "eps_tform[0,20]      0.43      0.89      0.45     -1.04      1.88   1374.93      1.00\n",
      "eps_tform[0,21]     -1.47      0.79     -1.47     -2.77     -0.22    967.46      1.00\n",
      "eps_tform[0,22]      0.24      0.90      0.22     -1.28      1.69   1097.06      1.00\n",
      "eps_tform[0,23]      0.23      1.00      0.25     -1.17      2.05   1232.36      1.00\n",
      "       theta[0]      1.27      0.14      1.27      1.07      1.51    403.43      1.00\n",
      "        tmax[0]     -2.27      0.20     -2.27     -2.57     -1.92    428.29      1.01\n",
      "\n",
      "Number of divergences: 0\n"
     ]
    }
   ],
   "source": [
    "filt_map = {'g': 'g_PS1', 'r': 'r_PS1', 'i': 'i_PS1', 'z': 'z_PS1'}\n",
    "samples, sn_props = model.fit_from_file(model.example_lc, filt_map=filt_map, mu_R=2.5, sigma_R=0.5)"
   ]
  },
  {
   "cell_type": "markdown",
   "id": "67c8136a-55d6-4311-bbfe-5f302e0ee108",
   "metadata": {},
   "source": [
    "## Plotting light curve fits"
   ]
  },
  {
   "cell_type": "markdown",
   "id": "a3db2c6e-9507-4853-9271-9071dc5e5da0",
   "metadata": {},
   "source": [
    "Now that you've run the fit, you can use the samples to make plots. You can use the method `get_flux_from_chains` to get model fluxes at given times and in given bands from the MCMC chains.\n",
    "\n",
    "First, let's load in the example data just in case you haven't already"
   ]
  },
  {
   "cell_type": "code",
   "execution_count": 5,
   "id": "34911d84-21ed-4c3c-9ecc-a8a150f95f01",
   "metadata": {},
   "outputs": [],
   "source": [
    "meta, lcdata = sncosmo.read_snana_ascii(model.example_lc, default_tablename='OBS')\n",
    "lcdata = lcdata['OBS'].to_pandas()"
   ]
  },
  {
   "cell_type": "markdown",
   "id": "4cb47980-6d4e-4924-ad66-223f6282ce53",
   "metadata": {},
   "source": [
    "Now let's get the model fluxes from the chains every day from -10 to +40 days, in PS1 _griz_ bands"
   ]
  },
  {
   "cell_type": "code",
   "execution_count": 6,
   "id": "4b5aa2cb-3f7e-4c58-80e0-d951c6ffe0b4",
   "metadata": {},
   "outputs": [
    {
     "name": "stdout",
     "output_type": "stream",
     "text": [
      "Getting best fit light curves from chains...\n"
     ]
    },
    {
     "name": "stderr",
     "output_type": "stream",
     "text": [
      "100%|███████████████████████████████████████████████████████████████████████████████████████████████████████████████████████████████████| 1/1 [00:04<00:00,  4.66s/it]\n"
     ]
    }
   ],
   "source": [
    "t = np.arange(-10, 40, 1)\n",
    "bands = ['g_PS1', 'r_PS1', 'i_PS1', 'z_PS1']\n",
    "z, ebv_mw = sn_props\n",
    "\n",
    "flux_grid = model.get_flux_from_chains(t, bands, samples, z, ebv_mw, mag=False, num_samples=1000)"
   ]
  },
  {
   "cell_type": "markdown",
   "id": "45a87902-690b-42d5-b302-eef5ac23927e",
   "metadata": {},
   "source": [
    "Now get the mean and standard deviation for the fluxes across all chains, for the plots"
   ]
  },
  {
   "cell_type": "code",
   "execution_count": 7,
   "id": "2c6fb32e-c07a-43cf-86e9-42eb447e5941",
   "metadata": {},
   "outputs": [],
   "source": [
    "fit, fit_err = flux_grid.mean(axis=(0, 1)), flux_grid.std(axis=(0, 1))"
   ]
  },
  {
   "cell_type": "markdown",
   "id": "a74f64d5-0b3a-42ec-80a5-47731696b81f",
   "metadata": {},
   "source": [
    "And finally, let's make the plot"
   ]
  },
  {
   "cell_type": "code",
   "execution_count": 8,
   "id": "91331954-b7ed-4c02-a474-347f86c9a8bb",
   "metadata": {},
   "outputs": [
    {
     "data": {
      "image/png": "[encoded data removed]",
      "text/plain": [
       "<Figure size 640x480 with 1 Axes>"
      ]
     },
     "metadata": {},
     "output_type": "display_data"
    }
   ],
   "source": [
    "cs = ['g', 'r', 'c', 'k']\n",
    "plot_t = t + meta['SEARCH_PEAKMJD']\n",
    "\n",
    "for b_ind, b in enumerate(bands):\n",
    "    b_data = lcdata[lcdata.FLT == b[0]]\n",
    "    plt.errorbar(b_data.MJD, b_data.FLUXCAL, b_data.FLUXCALERR, fmt=f'{cs[b_ind]}x', label=b)\n",
    "    plt.plot(plot_t, fit[b_ind, :], color=cs[b_ind])\n",
    "    plt.fill_between(plot_t, fit[b_ind, :] - fit_err[b_ind, :], fit[b_ind, :] + fit_err[b_ind, :], alpha=0.3, color=cs[b_ind])\n",
    "plt.xlabel('MJD')\n",
    "plt.ylabel('FLUXCAL')\n",
    "plt.legend()\n",
    "plt.show()"
   ]
  },
  {
   "cell_type": "markdown",
   "id": "131cf987-4238-4f78-b995-7f5221d7fa73",
   "metadata": {},
   "source": [
    "Note that these fluxes will incorporate the value and uncertainty of tmax. If you plot rest-frame phase, you may find that the maximum is not at t=0 days since tmax corresponds to a shift from some fiducidal time-of-maximum."
   ]
  },
  {
   "cell_type": "markdown",
   "id": "a411bf22-7607-4e6c-8f03-1bf6502b8ead",
   "metadata": {},
   "source": [
    "## Saving outputs"
   ]
  },
  {
   "cell_type": "markdown",
   "id": "f9d49f60-bc6e-4c61-a0c6-291e630c28ad",
   "metadata": {},
   "source": [
    "By default, the code will print a summary of the MCMC output and return the chains but won't save anything. If you want the outputs to be saved automatically, just set the kwarg `file_prefix` to whatever you want to call the outputs - the summary table and MCMC chains will respectively be saved as `{file_prefix}_summary.csv` and `{file_prefix}_chains.pkl` in the current location. This applies both to `model.fit()` and `model.fit_from_file()`.\n",
    "\n",
    "If, for whatever reason, you don't want to print the summary table just set `print_summary=False`."
   ]
  },
  {
   "cell_type": "code",
   "execution_count": null,
   "id": "e43e63be-3eb8-434a-94a6-dab01ac6a6cb",
   "metadata": {},
   "outputs": [],
   "source": []
  }
 ],
 "metadata": {
  "kernelspec": {
   "display_name": "Python 3 (ipykernel)",
   "language": "python",
   "name": "python3"
  },
  "language_info": {
   "codemirror_mode": {
    "name": "ipython",
    "version": 3
   },
   "file_extension": ".py",
   "mimetype": "text/x-python",
   "name": "python",
   "nbconvert_exporter": "python",
   "pygments_lexer": "ipython3",
   "version": "3.11.4"
  }
 },
 "nbformat": 4,
 "nbformat_minor": 5
}
